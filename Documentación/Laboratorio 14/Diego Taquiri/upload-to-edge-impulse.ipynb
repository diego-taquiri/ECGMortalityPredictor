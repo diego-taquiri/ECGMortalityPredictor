{
 "cells": [
  {
   "cell_type": "code",
   "execution_count": 1,
   "metadata": {},
   "outputs": [],
   "source": [
    "# Install requests via: `pip3 install requests`\n",
    "import requests\n",
    "import os"
   ]
  },
  {
   "cell_type": "code",
   "execution_count": 3,
   "metadata": {},
   "outputs": [
    {
     "name": "stdout",
     "output_type": "stream",
     "text": [
      "Uploaded file(s) to Edge Impulse\n",
      " 200 b'{\"success\":true,\"files\":[{\"success\":true,\"projectId\":431159,\"sampleId\":1059030869,\"fileName\":\"one.png.50qf5qbs.json\"},{\"success\":true,\"projectId\":431159,\"sampleId\":1059030870,\"fileName\":\"two.png.50qf5qdt.json\"}]}'\n"
     ]
    }
   ],
   "source": [
    "\n",
    "api_key = 'ei_d4743a729f5b2e08038fe8e59b6ba4765be315a8106db9943922f4d41806c935'\n",
    "# Add the files you want to upload to Edge Impulse\n",
    "files = [\n",
    "    'one.png',\n",
    "    'two.png',\n",
    "]\n",
    "# # Replace the label with your own.\n",
    "label = 'car'\n",
    "# Upload the file to Edge Impulse using the API, and print the response.\n",
    "res = requests.post(url='https://ingestion.edgeimpulse.com/api/training/files',\n",
    "                    headers={\n",
    "                        'x-label': label,\n",
    "                        'x-api-key': api_key,\n",
    "                    },\n",
    "                    # Creating the data payload for the request.\n",
    "                    files=(('data', (os.path.basename(i), open(\n",
    "                        i, 'rb'), 'application/csv')) for i in files)\n",
    "                    ) #application/csv \n",
    "\n",
    "if (res.status_code == 200):\n",
    "    print('Uploaded file(s) to Edge Impulse\\n', res.status_code, res.content)\n",
    "else:\n",
    "    print('Failed to upload file(s) to Edge Impulse\\n',\n",
    "          res.status_code, res.content)\n"
   ]
  },
  {
   "cell_type": "code",
   "execution_count": null,
   "metadata": {},
   "outputs": [],
   "source": []
  }
 ],
 "metadata": {
  "kernelspec": {
   "display_name": "mne",
   "language": "python",
   "name": "python3"
  },
  "language_info": {
   "codemirror_mode": {
    "name": "ipython",
    "version": 3
   },
   "file_extension": ".py",
   "mimetype": "text/x-python",
   "name": "python",
   "nbconvert_exporter": "python",
   "pygments_lexer": "ipython3",
   "version": "3.9.16"
  }
 },
 "nbformat": 4,
 "nbformat_minor": 2
}
