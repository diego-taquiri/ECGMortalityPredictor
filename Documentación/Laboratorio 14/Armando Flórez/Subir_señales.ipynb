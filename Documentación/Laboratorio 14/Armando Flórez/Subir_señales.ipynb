{
  "nbformat": 4,
  "nbformat_minor": 0,
  "metadata": {
    "colab": {
      "provenance": []
    },
    "kernelspec": {
      "name": "python3",
      "display_name": "Python 3"
    },
    "language_info": {
      "name": "python"
    }
  },
  "cells": [
    {
      "cell_type": "code",
      "execution_count": 1,
      "metadata": {
        "colab": {
          "base_uri": "https://localhost:8080/"
        },
        "id": "1am-X1Wdw4uJ",
        "outputId": "9569c91d-3fff-4259-9550-e7fb8eb3e9ab"
      },
      "outputs": [
        {
          "output_type": "stream",
          "name": "stdout",
          "text": [
            "Uploaded file(s) to Edge Impulse\n",
            " 200 b'{\"success\":true,\"files\":[{\"success\":true,\"projectId\":431231,\"sampleId\":1059333961,\"fileName\":\"se\\xc3\\xb1al_recortada_ecg_reposo.csv.50r4t2fi.json\"},{\"success\":true,\"projectId\":431231,\"sampleId\":1059333965,\"fileName\":\"se\\xc3\\xb1al_recortada_ecg_paro.csv.50r4t2kp.json\"},{\"success\":true,\"projectId\":431231,\"sampleId\":1059333967,\"fileName\":\"se\\xc3\\xb1al_recortada_ecg_post_ejercicio.csv.50r4t2nj.json\"}]}'\n"
          ]
        }
      ],
      "source": [
        "# Install requests via: pip3 install requests\n",
        "import requests\n",
        "import os\n",
        "import json\n",
        "import csv\n",
        "\n",
        "api_key = 'ei_dd570147d4c576bdb2521c7ebe175b08395308b09cdd93eeb1a41ef97ae097b7'\n",
        "\n",
        "# Add the files you want to upload to Edge Impulse\n",
        "\n",
        "files = [\n",
        "    'señal_recortada_ecg_reposo.csv','señal_recortada_ecg_paro.csv','señal_recortada_ecg_post_ejercicio.csv'\n",
        "]\n",
        "# # Replace the label with your own.\n",
        "label = 'ecg'\n",
        "\n",
        "# Upload the file to Edge Impulse using the API, and print the response.\n",
        "res = requests.post(url='https://ingestion.edgeimpulse.com/api/training/files',\n",
        "                    headers={\n",
        "                        'x-label': label,\n",
        "                        'x-api-key': api_key,\n",
        "                    },\n",
        "                    # Creating the data payload for the request.\n",
        "                    files=(('data', (os.path.basename(i), open(\n",
        "                        i, 'rb'), 'image/png')) for i in files)\n",
        "                    )\n",
        "\n",
        "if (res.status_code == 200):\n",
        "    print('Uploaded file(s) to Edge Impulse\\n', res.status_code, res.content)\n",
        "else:\n",
        "    print('Failed to upload file(s) to Edge Impulse\\n',\n",
        "          res.status_code, res.content)"
      ]
    },
    {
      "cell_type": "code",
      "source": [
        "# Install requests via: pip3 install requests\n",
        "import requests\n",
        "import os\n",
        "import json\n",
        "import csv\n",
        "\n",
        "api_key = 'ei_d704a88b12b587383a441f7dd57c2c596203982cdd3818bbc19c1004eb210a52'\n",
        "\n",
        "# Add the files you want to upload to Edge Impulse\n",
        "\n",
        "files = [\n",
        "    'señal_recortada_eeg_reposo.csv','señal_recortada_eeg_mate.csv','señal_recortada_eeg_abrir_cerrar.csv'\n",
        "]\n",
        "# # Replace the label with your own.\n",
        "label = 'eeg'\n",
        "\n",
        "# Upload the file to Edge Impulse using the API, and print the response.\n",
        "res = requests.post(url='https://ingestion.edgeimpulse.com/api/training/files',\n",
        "                    headers={\n",
        "                        'x-label': label,\n",
        "                        'x-api-key': api_key,\n",
        "                    },\n",
        "                    # Creating the data payload for the request.\n",
        "                    files=(('data', (os.path.basename(i), open(\n",
        "                        i, 'rb'), 'image/png')) for i in files)\n",
        "                    )\n",
        "\n",
        "if (res.status_code == 200):\n",
        "    print('Uploaded file(s) to Edge Impulse\\n', res.status_code, res.content)\n",
        "else:\n",
        "    print('Failed to upload file(s) to Edge Impulse\\n',\n",
        "          res.status_code, res.content)"
      ],
      "metadata": {
        "colab": {
          "base_uri": "https://localhost:8080/"
        },
        "id": "Ckh8GgLMBVin",
        "outputId": "b65b8e78-f532-4f8c-d68c-1b6e81e912cd"
      },
      "execution_count": 2,
      "outputs": [
        {
          "output_type": "stream",
          "name": "stdout",
          "text": [
            "Uploaded file(s) to Edge Impulse\n",
            " 200 b'{\"success\":true,\"files\":[{\"success\":true,\"projectId\":431234,\"sampleId\":1059336266,\"fileName\":\"se\\xc3\\xb1al_recortada_eeg_reposo.csv.50r524pi.json\"},{\"success\":true,\"projectId\":431234,\"sampleId\":1059336269,\"fileName\":\"se\\xc3\\xb1al_recortada_eeg_mate.csv.50r524ti.json\"},{\"success\":true,\"projectId\":431234,\"sampleId\":1059336273,\"fileName\":\"se\\xc3\\xb1al_recortada_eeg_abrir_cerrar.csv.50r52519.json\"}]}'\n"
          ]
        }
      ]
    },
    {
      "cell_type": "code",
      "source": [
        "# Install requests via: pip3 install requests\n",
        "import requests\n",
        "import os\n",
        "import json\n",
        "import csv\n",
        "\n",
        "api_key = 'ei_44608cdc0862ff6640a3caa69522d3c75376ec25b9a933287286abdad54bde51'\n",
        "\n",
        "# Add the files you want to upload to Edge Impulse\n",
        "\n",
        "files = [\n",
        "    'señal_recortada_emg_contrafuerzo.csv','señal_recortada_emg_isometrico.csv','señal_recortada_emg_reposo.csv'\n",
        "]\n",
        "# # Replace the label with your own.\n",
        "label = 'emg'\n",
        "\n",
        "# Upload the file to Edge Impulse using the API, and print the response.\n",
        "res = requests.post(url='https://ingestion.edgeimpulse.com/api/training/files',\n",
        "                    headers={\n",
        "                        'x-label': label,\n",
        "                        'x-api-key': api_key,\n",
        "                    },\n",
        "                    # Creating the data payload for the request.\n",
        "                    files=(('data', (os.path.basename(i), open(\n",
        "                        i, 'rb'), 'image/png')) for i in files)\n",
        "                    )\n",
        "\n",
        "if (res.status_code == 200):\n",
        "    print('Uploaded file(s) to Edge Impulse\\n', res.status_code, res.content)\n",
        "else:\n",
        "    print('Failed to upload file(s) to Edge Impulse\\n',\n",
        "          res.status_code, res.content)"
      ],
      "metadata": {
        "colab": {
          "base_uri": "https://localhost:8080/"
        },
        "id": "JMITijgVB19A",
        "outputId": "c70a9fd8-1b99-4646-a75b-dc395d4b47a5"
      },
      "execution_count": 4,
      "outputs": [
        {
          "output_type": "stream",
          "name": "stdout",
          "text": [
            "Uploaded file(s) to Edge Impulse\n",
            " 200 b'{\"success\":true,\"files\":[{\"success\":true,\"projectId\":431232,\"sampleId\":1059341633,\"fileName\":\"se\\xc3\\xb1al_recortada_emg_contrafuerzo.csv.50r56j8u.json\"},{\"success\":true,\"projectId\":431232,\"sampleId\":1059341638,\"fileName\":\"se\\xc3\\xb1al_recortada_emg_isometrico.csv.50r56jdq.json\"},{\"success\":true,\"projectId\":431232,\"sampleId\":1059341643,\"fileName\":\"se\\xc3\\xb1al_recortada_emg_reposo.csv.50r56jh0.json\"}]}'\n"
          ]
        }
      ]
    }
  ]
}