{
  "nbformat": 4,
  "nbformat_minor": 0,
  "metadata": {
    "colab": {
      "provenance": []
    },
    "kernelspec": {
      "name": "python3",
      "display_name": "Python 3"
    },
    "language_info": {
      "name": "python"
    }
  },
  "cells": [
    {
      "cell_type": "markdown",
      "source": [
        "ISOMÉTRICO"
      ],
      "metadata": {
        "id": "v32wX2Gm5qXh"
      }
    },
    {
      "cell_type": "code",
      "execution_count": 4,
      "metadata": {
        "colab": {
          "base_uri": "https://localhost:8080/"
        },
        "id": "kwAFQpOnaix2",
        "outputId": "17f28d09-8a3e-4d58-cab4-8b6b7fe20cb7"
      },
      "outputs": [
        {
          "output_type": "stream",
          "name": "stdout",
          "text": [
            "Uploaded file(s) to Edge Impulse\n",
            " 200 b'{\"success\":true,\"files\":[{\"success\":true,\"projectId\":431171,\"sampleId\":1059405743,\"fileName\":\"isometrico1.csv.50rj2rju.json\"},{\"success\":true,\"projectId\":431171,\"sampleId\":1059405744,\"fileName\":\"isometrico2.csv.50rj2rsd.json\"},{\"success\":true,\"projectId\":431171,\"sampleId\":1059405745,\"fileName\":\"isometrico3.csv.50rj2s2j.json\"},{\"success\":true,\"projectId\":431171,\"sampleId\":1059405746,\"fileName\":\"isometrico4.csv.50rj2s7n.json\"},{\"success\":true,\"projectId\":431171,\"sampleId\":1059405747,\"fileName\":\"isometrico5.csv.50rj2sg8.json\"},{\"success\":true,\"projectId\":431171,\"sampleId\":1059405748,\"fileName\":\"isometrico6.csv.50rj2sli.json\"},{\"success\":true,\"projectId\":431171,\"sampleId\":1059405749,\"fileName\":\"isometrico7.csv.50rj2ssk.json\"},{\"success\":true,\"projectId\":431171,\"sampleId\":1059405750,\"fileName\":\"isometrico8.csv.50rj2t2c.json\"},{\"success\":true,\"projectId\":431171,\"sampleId\":1059405752,\"fileName\":\"isometrico9.csv.50rj2t7g.json\"},{\"success\":true,\"projectId\":431171,\"sampleId\":1059405753,\"fileName\":\"isometrico10.csv.50rj2tc1.json\"},{\"success\":true,\"projectId\":431171,\"sampleId\":1059405754,\"fileName\":\"isometrico11.csv.50rj2tia.json\"},{\"success\":true,\"projectId\":431171,\"sampleId\":1059405755,\"fileName\":\"isometrico12.csv.50rj2tp0.json\"}]}'\n"
          ]
        }
      ],
      "source": [
        "# Install requests via: `pip3 install requests`\n",
        "import requests\n",
        "import os\n",
        "\n",
        "api_key = 'ei_60c89c5d64a83376db47f7e19e4b59ee902dcfddcffb5d2f1db9cb9c7502917e'\n",
        "# Add the files you want to upload to Edge Impulse\n",
        "\n",
        "files = []\n",
        "\n",
        "for i in range(1, 13):\n",
        "    files.append(f'isometrico{i}.csv')\n",
        "\n",
        "# # Replace the label with your own.\n",
        "label = 'ISOMETRICO'\n",
        "# Upload the file to Edge Impulse using the API, and print the response.\n",
        "res = requests.post(url='https://ingestion.edgeimpulse.com/api/training/files',\n",
        "                    headers={\n",
        "                        'x-label': label,\n",
        "                        'x-api-key': api_key,\n",
        "                    },\n",
        "                    # Creating the data payload for the request.\n",
        "                    files=(('data', (os.path.basename(i), open(\n",
        "                        i, 'rb'), 'application/csv')) for i in files)\n",
        "                    )\n",
        "\n",
        "if (res.status_code == 200):\n",
        "    print('Uploaded file(s) to Edge Impulse\\n', res.status_code, res.content)\n",
        "else:\n",
        "    print('Failed to upload file(s) to Edge Impulse\\n',\n",
        "          res.status_code, res.content)"
      ]
    },
    {
      "cell_type": "markdown",
      "source": [
        "CONTRAFUERZA"
      ],
      "metadata": {
        "id": "9WD83EbD6Dgy"
      }
    },
    {
      "cell_type": "code",
      "execution_count": 5,
      "metadata": {
        "colab": {
          "base_uri": "https://localhost:8080/"
        },
        "outputId": "5de943fe-9a11-4206-efdf-b36c99f9cc71",
        "id": "LBmqtiQJ6Bia"
      },
      "outputs": [
        {
          "output_type": "stream",
          "name": "stdout",
          "text": [
            "Uploaded file(s) to Edge Impulse\n",
            " 200 b'{\"success\":true,\"files\":[{\"success\":true,\"projectId\":431171,\"sampleId\":1059406368,\"fileName\":\"contrafuerza1.csv.50rjbhcl.json\"},{\"success\":true,\"projectId\":431171,\"sampleId\":1059406369,\"fileName\":\"contrafuerza2.csv.50rjbhkb.json\"},{\"success\":true,\"projectId\":431171,\"sampleId\":1059406370,\"fileName\":\"contrafuerza3.csv.50rjbhs5.json\"},{\"success\":true,\"projectId\":431171,\"sampleId\":1059406371,\"fileName\":\"contrafuerza4.csv.50rjbi32.json\"},{\"success\":true,\"projectId\":431171,\"sampleId\":1059406372,\"fileName\":\"contrafuerza5.csv.50rjbi7s.json\"},{\"success\":true,\"projectId\":431171,\"sampleId\":1059406374,\"fileName\":\"contrafuerza6.csv.50rjbid4.json\"},{\"success\":true,\"projectId\":431171,\"sampleId\":1059406375,\"fileName\":\"contrafuerza7.csv.50rjbimj.json\"},{\"success\":true,\"projectId\":431171,\"sampleId\":1059406376,\"fileName\":\"contrafuerza8.csv.50rjbiue.json\"},{\"success\":true,\"projectId\":431171,\"sampleId\":1059406377,\"fileName\":\"contrafuerza9.csv.50rjbj49.json\"},{\"success\":true,\"projectId\":431171,\"sampleId\":1059406378,\"fileName\":\"contrafuerza10.csv.50rjbjc7.json\"},{\"success\":true,\"projectId\":431171,\"sampleId\":1059406379,\"fileName\":\"contrafuerza11.csv.50rjbjho.json\"},{\"success\":true,\"projectId\":431171,\"sampleId\":1059406380,\"fileName\":\"contrafuerza12.csv.50rjbjnd.json\"},{\"success\":true,\"projectId\":431171,\"sampleId\":1059406381,\"fileName\":\"contrafuerza13.csv.50rjbjte.json\"},{\"success\":true,\"projectId\":431171,\"sampleId\":1059406382,\"fileName\":\"contrafuerza14.csv.50rjbk2a.json\"},{\"success\":true,\"projectId\":431171,\"sampleId\":1059406383,\"fileName\":\"contrafuerza15.csv.50rjbk7p.json\"},{\"success\":true,\"projectId\":431171,\"sampleId\":1059406384,\"fileName\":\"contrafuerza16.csv.50rjbken.json\"},{\"success\":true,\"projectId\":431171,\"sampleId\":1059406385,\"fileName\":\"contrafuerza17.csv.50rjbkl9.json\"},{\"success\":true,\"projectId\":431171,\"sampleId\":1059406386,\"fileName\":\"contrafuerza18.csv.50rjbkqo.json\"},{\"success\":true,\"projectId\":431171,\"sampleId\":1059406387,\"fileName\":\"contrafuerza19.csv.50rjbl1o.json\"},{\"success\":true,\"projectId\":431171,\"sampleId\":1059406388,\"fileName\":\"contrafuerza20.csv.50rjbl7k.json\"},{\"success\":true,\"projectId\":431171,\"sampleId\":1059406389,\"fileName\":\"contrafuerza21.csv.50rjblcl.json\"},{\"success\":true,\"projectId\":431171,\"sampleId\":1059406390,\"fileName\":\"contrafuerza22.csv.50rjbll1.json\"},{\"success\":true,\"projectId\":431171,\"sampleId\":1059406391,\"fileName\":\"contrafuerza23.csv.50rjblqd.json\"},{\"success\":true,\"projectId\":431171,\"sampleId\":1059406392,\"fileName\":\"contrafuerza24.csv.50rjblvp.json\"},{\"success\":true,\"projectId\":431171,\"sampleId\":1059406393,\"fileName\":\"contrafuerza25.csv.50rjbm4l.json\"},{\"success\":true,\"projectId\":431171,\"sampleId\":1059406394,\"fileName\":\"contrafuerza26.csv.50rjbman.json\"},{\"success\":true,\"projectId\":431171,\"sampleId\":1059406395,\"fileName\":\"contrafuerza27.csv.50rjbmg9.json\"},{\"success\":true,\"projectId\":431171,\"sampleId\":1059406396,\"fileName\":\"contrafuerza28.csv.50rjbmnb.json\"},{\"success\":true,\"projectId\":431171,\"sampleId\":1059406398,\"fileName\":\"contrafuerza29.csv.50rjbmv2.json\"},{\"success\":true,\"projectId\":431171,\"sampleId\":1059406399,\"fileName\":\"contrafuerza30.csv.50rjbn3h.json\"},{\"success\":true,\"projectId\":431171,\"sampleId\":1059406400,\"fileName\":\"contrafuerza31.csv.50rjbn8p.json\"}]}'\n"
          ]
        }
      ],
      "source": [
        "# Install requests via: `pip3 install requests`\n",
        "import requests\n",
        "import os\n",
        "\n",
        "api_key = 'ei_60c89c5d64a83376db47f7e19e4b59ee902dcfddcffb5d2f1db9cb9c7502917e'\n",
        "# Add the files you want to upload to Edge Impulse\n",
        "\n",
        "files = []\n",
        "\n",
        "for i in range(1, 32):\n",
        "    files.append(f'contrafuerza{i}.csv')\n",
        "\n",
        "# # Replace the label with your own.\n",
        "label = 'CONTRAFUERZA'\n",
        "# Upload the file to Edge Impulse using the API, and print the response.\n",
        "res = requests.post(url='https://ingestion.edgeimpulse.com/api/training/files',\n",
        "                    headers={\n",
        "                        'x-label': label,\n",
        "                        'x-api-key': api_key,\n",
        "                    },\n",
        "                    # Creating the data payload for the request.\n",
        "                    files=(('data', (os.path.basename(i), open(\n",
        "                        i, 'rb'), 'application/csv')) for i in files)\n",
        "                    )\n",
        "\n",
        "if (res.status_code == 200):\n",
        "    print('Uploaded file(s) to Edge Impulse\\n', res.status_code, res.content)\n",
        "else:\n",
        "    print('Failed to upload file(s) to Edge Impulse\\n',\n",
        "          res.status_code, res.content)"
      ]
    }
  ]
}