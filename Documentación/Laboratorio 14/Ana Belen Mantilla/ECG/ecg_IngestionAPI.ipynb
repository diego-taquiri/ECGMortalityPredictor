{
  "nbformat": 4,
  "nbformat_minor": 0,
  "metadata": {
    "colab": {
      "provenance": []
    },
    "kernelspec": {
      "name": "python3",
      "display_name": "Python 3"
    },
    "language_info": {
      "name": "python"
    }
  },
  "cells": [
    {
      "cell_type": "markdown",
      "source": [
        "REPOSO"
      ],
      "metadata": {
        "id": "v32wX2Gm5qXh"
      }
    },
    {
      "cell_type": "code",
      "execution_count": 10,
      "metadata": {
        "colab": {
          "base_uri": "https://localhost:8080/"
        },
        "id": "kwAFQpOnaix2",
        "outputId": "67805032-4e34-426c-d985-9ca78f0cc6ba"
      },
      "outputs": [
        {
          "output_type": "stream",
          "name": "stdout",
          "text": [
            "Uploaded file(s) to Edge Impulse\n",
            " 200 b'{\"success\":true,\"files\":[{\"success\":true,\"projectId\":431569,\"sampleId\":1059661505,\"fileName\":\"Reposo1.csv.50rpe4or.json\"},{\"success\":true,\"projectId\":431569,\"sampleId\":1059661506,\"fileName\":\"Reposo2.csv.50rpe4t4.json\"},{\"success\":true,\"projectId\":431569,\"sampleId\":1059661507,\"fileName\":\"Reposo3.csv.50rpe512.json\"},{\"success\":true,\"projectId\":431569,\"sampleId\":1059661508,\"fileName\":\"Reposo4.csv.50rpe558.json\"},{\"success\":true,\"projectId\":431569,\"sampleId\":1059661509,\"fileName\":\"Reposo5.csv.50rpe59i.json\"},{\"success\":true,\"projectId\":431569,\"sampleId\":1059661510,\"fileName\":\"Reposo6.csv.50rpe5de.json\"},{\"success\":true,\"projectId\":431569,\"sampleId\":1059661511,\"fileName\":\"Reposo7.csv.50rpe5hl.json\"},{\"success\":true,\"projectId\":431569,\"sampleId\":1059661512,\"fileName\":\"Reposo8.csv.50rpe5lk.json\"},{\"success\":true,\"projectId\":431569,\"sampleId\":1059661513,\"fileName\":\"Reposo9.csv.50rpe5p4.json\"},{\"success\":true,\"projectId\":431569,\"sampleId\":1059661514,\"fileName\":\"Reposo10.csv.50rpe5t6.json\"},{\"success\":true,\"projectId\":431569,\"sampleId\":1059661515,\"fileName\":\"Reposo11.csv.50rpe61t.json\"},{\"success\":true,\"projectId\":431569,\"sampleId\":1059661516,\"fileName\":\"Reposo12.csv.50rpe66g.json\"},{\"success\":true,\"projectId\":431569,\"sampleId\":1059661517,\"fileName\":\"Reposo13.csv.50rpe6ad.json\"},{\"success\":true,\"projectId\":431569,\"sampleId\":1059661518,\"fileName\":\"Reposo14.csv.50rpe6fc.json\"},{\"success\":true,\"projectId\":431569,\"sampleId\":1059661519,\"fileName\":\"Reposo15.csv.50rpe6kh.json\"},{\"success\":true,\"projectId\":431569,\"sampleId\":1059661520,\"fileName\":\"Reposo16.csv.50rpe6p3.json\"},{\"success\":true,\"projectId\":431569,\"sampleId\":1059661521,\"fileName\":\"Reposo17.csv.50rpe6tb.json\"},{\"success\":true,\"projectId\":431569,\"sampleId\":1059661522,\"fileName\":\"Reposo18.csv.50rpe726.json\"},{\"success\":true,\"projectId\":431569,\"sampleId\":1059661523,\"fileName\":\"Reposo19.csv.50rpe76n.json\"},{\"success\":true,\"projectId\":431569,\"sampleId\":1059661524,\"fileName\":\"Reposo20.csv.50rpe7bg.json\"},{\"success\":true,\"projectId\":431569,\"sampleId\":1059661525,\"fileName\":\"Reposo21.csv.50rpe7g4.json\"}]}'\n"
          ]
        }
      ],
      "source": [
        "# Install requests via: `pip3 install requests`\n",
        "import requests\n",
        "import os\n",
        "\n",
        "api_key = 'ei_0d0cce511119ab6a1824cf3f092b5c02e62240f6fcda2a3b41ec8e7aca1f241e'\n",
        "# Add the files you want to upload to Edge Impulse\n",
        "\n",
        "files = []\n",
        "\n",
        "for i in range(1, 22):\n",
        "    files.append(f'Reposo{i}.csv')\n",
        "\n",
        "# # Replace the label with your own.\n",
        "label = 'REPOSO'\n",
        "# Upload the file to Edge Impulse using the API, and print the response.\n",
        "res = requests.post(url='https://ingestion.edgeimpulse.com/api/training/files',\n",
        "                    headers={\n",
        "                        'x-label': label,\n",
        "                        'x-api-key': api_key,\n",
        "                    },\n",
        "                    # Creating the data payload for the request.\n",
        "                    files=(('data', (os.path.basename(i), open(\n",
        "                        i, 'rb'), 'application/csv')) for i in files)\n",
        "                    )\n",
        "\n",
        "if (res.status_code == 200):\n",
        "    print('Uploaded file(s) to Edge Impulse\\n', res.status_code, res.content)\n",
        "else:\n",
        "    print('Failed to upload file(s) to Edge Impulse\\n',\n",
        "          res.status_code, res.content)"
      ]
    },
    {
      "cell_type": "markdown",
      "source": [
        "EJERCICIO"
      ],
      "metadata": {
        "id": "9WD83EbD6Dgy"
      }
    },
    {
      "cell_type": "code",
      "execution_count": 11,
      "metadata": {
        "colab": {
          "base_uri": "https://localhost:8080/"
        },
        "outputId": "0288dabb-8064-415f-f3da-50b4db7069cc",
        "id": "LBmqtiQJ6Bia"
      },
      "outputs": [
        {
          "output_type": "stream",
          "name": "stdout",
          "text": [
            "Uploaded file(s) to Edge Impulse\n",
            " 200 b'{\"success\":true,\"files\":[{\"success\":true,\"projectId\":431569,\"sampleId\":1059661526,\"fileName\":\"ejercicio1.csv.50rpec7e.json\"},{\"success\":true,\"projectId\":431569,\"sampleId\":1059661527,\"fileName\":\"ejercicio2.csv.50rpecdk.json\"},{\"success\":true,\"projectId\":431569,\"sampleId\":1059661528,\"fileName\":\"ejercicio3.csv.50rpecio.json\"},{\"success\":true,\"projectId\":431569,\"sampleId\":1059661529,\"fileName\":\"ejercicio4.csv.50rpecn5.json\"},{\"success\":true,\"projectId\":431569,\"sampleId\":1059661530,\"fileName\":\"ejercicio5.csv.50rpecrl.json\"},{\"success\":true,\"projectId\":431569,\"sampleId\":1059661531,\"fileName\":\"ejercicio6.csv.50rpecvd.json\"},{\"success\":true,\"projectId\":431569,\"sampleId\":1059661532,\"fileName\":\"ejercicio7.csv.50rped3i.json\"},{\"success\":true,\"projectId\":431569,\"sampleId\":1059661533,\"fileName\":\"ejercicio8.csv.50rped79.json\"},{\"success\":true,\"projectId\":431569,\"sampleId\":1059661534,\"fileName\":\"ejercicio9.csv.50rpedbc.json\"},{\"success\":true,\"projectId\":431569,\"sampleId\":1059661535,\"fileName\":\"ejercicio10.csv.50rpedg2.json\"},{\"success\":true,\"projectId\":431569,\"sampleId\":1059661536,\"fileName\":\"ejercicio11.csv.50rpedkb.json\"},{\"success\":true,\"projectId\":431569,\"sampleId\":1059661537,\"fileName\":\"ejercicio12.csv.50rpedob.json\"},{\"success\":true,\"projectId\":431569,\"sampleId\":1059661538,\"fileName\":\"ejercicio13.csv.50rpedtc.json\"},{\"success\":true,\"projectId\":431569,\"sampleId\":1059661539,\"fileName\":\"ejercicio14.csv.50rpee1k.json\"},{\"success\":true,\"projectId\":431569,\"sampleId\":1059661540,\"fileName\":\"ejercicio15.csv.50rpee60.json\"},{\"success\":true,\"projectId\":431569,\"sampleId\":1059661541,\"fileName\":\"ejercicio16.csv.50rpeeam.json\"},{\"success\":true,\"projectId\":431569,\"sampleId\":1059661542,\"fileName\":\"ejercicio17.csv.50rpeeg1.json\"},{\"success\":true,\"projectId\":431569,\"sampleId\":1059661543,\"fileName\":\"ejercicio18.csv.50rpeela.json\"},{\"success\":true,\"projectId\":431569,\"sampleId\":1059661544,\"fileName\":\"ejercicio19.csv.50rpeept.json\"},{\"success\":true,\"projectId\":431569,\"sampleId\":1059661545,\"fileName\":\"ejercicio20.csv.50rpeet9.json\"},{\"success\":true,\"projectId\":431569,\"sampleId\":1059661546,\"fileName\":\"ejercicio21.csv.50rpef3a.json\"},{\"success\":true,\"projectId\":431569,\"sampleId\":1059661547,\"fileName\":\"ejercicio22.csv.50rpef7f.json\"},{\"success\":true,\"projectId\":431569,\"sampleId\":1059661548,\"fileName\":\"ejercicio23.csv.50rpefbg.json\"},{\"success\":true,\"projectId\":431569,\"sampleId\":1059661549,\"fileName\":\"ejercicio24.csv.50rpeffk.json\"},{\"success\":true,\"projectId\":431569,\"sampleId\":1059661550,\"fileName\":\"ejercicio25.csv.50rpefjv.json\"},{\"success\":true,\"projectId\":431569,\"sampleId\":1059661551,\"fileName\":\"ejercicio26.csv.50rpefnh.json\"},{\"success\":true,\"projectId\":431569,\"sampleId\":1059661552,\"fileName\":\"ejercicio27.csv.50rpefrv.json\"},{\"success\":true,\"projectId\":431569,\"sampleId\":1059661553,\"fileName\":\"ejercicio28.csv.50rpefvl.json\"},{\"success\":true,\"projectId\":431569,\"sampleId\":1059661554,\"fileName\":\"ejercicio29.csv.50rpeg48.json\"},{\"success\":true,\"projectId\":431569,\"sampleId\":1059661555,\"fileName\":\"ejercicio30.csv.50rpeg97.json\"}]}'\n"
          ]
        }
      ],
      "source": [
        "# Install requests via: `pip3 install requests`\n",
        "import requests\n",
        "import os\n",
        "\n",
        "api_key = 'ei_0d0cce511119ab6a1824cf3f092b5c02e62240f6fcda2a3b41ec8e7aca1f241e'\n",
        "# Add the files you want to upload to Edge Impulse\n",
        "\n",
        "files = []\n",
        "\n",
        "for i in range(1, 31):\n",
        "    files.append(f'ejercicio{i}.csv')\n",
        "\n",
        "# # Replace the label with your own.\n",
        "label = 'EJERCICIO'\n",
        "# Upload the file to Edge Impulse using the API, and print the response.\n",
        "res = requests.post(url='https://ingestion.edgeimpulse.com/api/training/files',\n",
        "                    headers={\n",
        "                        'x-label': label,\n",
        "                        'x-api-key': api_key,\n",
        "                    },\n",
        "                    # Creating the data payload for the request.\n",
        "                    files=(('data', (os.path.basename(i), open(\n",
        "                        i, 'rb'), 'application/csv')) for i in files)\n",
        "                    )\n",
        "\n",
        "if (res.status_code == 200):\n",
        "    print('Uploaded file(s) to Edge Impulse\\n', res.status_code, res.content)\n",
        "else:\n",
        "    print('Failed to upload file(s) to Edge Impulse\\n',\n",
        "          res.status_code, res.content)"
      ]
    },
    {
      "cell_type": "markdown",
      "source": [
        "PARO CARDIACO"
      ],
      "metadata": {
        "id": "YyVoomeOS15T"
      }
    },
    {
      "cell_type": "code",
      "execution_count": 12,
      "metadata": {
        "colab": {
          "base_uri": "https://localhost:8080/"
        },
        "outputId": "5e6fab3f-ad0d-4b6b-8819-95348ab485d9",
        "id": "6wLlmjReS6HN"
      },
      "outputs": [
        {
          "output_type": "stream",
          "name": "stdout",
          "text": [
            "Uploaded file(s) to Edge Impulse\n",
            " 200 b'{\"success\":true,\"files\":[{\"success\":true,\"projectId\":431569,\"sampleId\":1059669724,\"fileName\":\"paro1.csv.50rpmobf.json\"},{\"success\":true,\"projectId\":431569,\"sampleId\":1059669735,\"fileName\":\"paro2.csv.50rpmof3.json\"},{\"success\":true,\"projectId\":431569,\"sampleId\":1059669743,\"fileName\":\"paro3.csv.50rpmoit.json\"},{\"success\":true,\"projectId\":431569,\"sampleId\":1059669749,\"fileName\":\"paro4.csv.50rpmomc.json\"},{\"success\":true,\"projectId\":431569,\"sampleId\":1059669765,\"fileName\":\"paro5.csv.50rpmoqe.json\"},{\"success\":true,\"projectId\":431569,\"sampleId\":1059669767,\"fileName\":\"paro6.csv.50rpmotr.json\"},{\"success\":true,\"projectId\":431569,\"sampleId\":1059669769,\"fileName\":\"paro7.csv.50rpmp14.json\"},{\"success\":true,\"projectId\":431569,\"sampleId\":1059669771,\"fileName\":\"paro8.csv.50rpmp5h.json\"},{\"success\":true,\"projectId\":431569,\"sampleId\":1059669791,\"fileName\":\"paro9.csv.50rpmpba.json\"},{\"success\":true,\"projectId\":431569,\"sampleId\":1059669815,\"fileName\":\"paro10.csv.50rpmpe1.json\"},{\"success\":true,\"projectId\":431569,\"sampleId\":1059669816,\"fileName\":\"paro11.csv.50rpmph5.json\"},{\"success\":true,\"projectId\":431569,\"sampleId\":1059669818,\"fileName\":\"paro12.csv.50rpmpk9.json\"},{\"success\":true,\"projectId\":431569,\"sampleId\":1059669821,\"fileName\":\"paro13.csv.50rpmpn8.json\"},{\"success\":true,\"projectId\":431569,\"sampleId\":1059669827,\"fileName\":\"paro14.csv.50rpmpps.json\"},{\"success\":true,\"projectId\":431569,\"sampleId\":1059669842,\"fileName\":\"paro15.csv.50rpmptp.json\"},{\"success\":true,\"projectId\":431569,\"sampleId\":1059669866,\"fileName\":\"paro16.csv.50rpmq0q.json\"},{\"success\":true,\"projectId\":431569,\"sampleId\":1059669868,\"fileName\":\"paro17.csv.50rpmq4c.json\"},{\"success\":true,\"projectId\":431569,\"sampleId\":1059669870,\"fileName\":\"paro18.csv.50rpmq7l.json\"},{\"success\":true,\"projectId\":431569,\"sampleId\":1059669876,\"fileName\":\"paro19.csv.50rpmqb0.json\"},{\"success\":true,\"projectId\":431569,\"sampleId\":1059669880,\"fileName\":\"paro20.csv.50rpmqdl.json\"},{\"success\":true,\"projectId\":431569,\"sampleId\":1059669902,\"fileName\":\"paro21.csv.50rpmqhu.json\"}]}'\n"
          ]
        }
      ],
      "source": [
        "# Install requests via: `pip3 install requests`\n",
        "import requests\n",
        "import os\n",
        "\n",
        "api_key = 'ei_0d0cce511119ab6a1824cf3f092b5c02e62240f6fcda2a3b41ec8e7aca1f241e'\n",
        "# Add the files you want to upload to Edge Impulse\n",
        "\n",
        "files = []\n",
        "\n",
        "for i in range(1, 22):\n",
        "    files.append(f'paro{i}.csv')\n",
        "\n",
        "# # Replace the label with your own.\n",
        "label = 'PARO_CARDIACO'\n",
        "# Upload the file to Edge Impulse using the API, and print the response.\n",
        "res = requests.post(url='https://ingestion.edgeimpulse.com/api/training/files',\n",
        "                    headers={\n",
        "                        'x-label': label,\n",
        "                        'x-api-key': api_key,\n",
        "                    },\n",
        "                    # Creating the data payload for the request.\n",
        "                    files=(('data', (os.path.basename(i), open(\n",
        "                        i, 'rb'), 'application/csv')) for i in files)\n",
        "                    )\n",
        "\n",
        "if (res.status_code == 200):\n",
        "    print('Uploaded file(s) to Edge Impulse\\n', res.status_code, res.content)\n",
        "else:\n",
        "    print('Failed to upload file(s) to Edge Impulse\\n',\n",
        "          res.status_code, res.content)"
      ]
    }
  ]
}