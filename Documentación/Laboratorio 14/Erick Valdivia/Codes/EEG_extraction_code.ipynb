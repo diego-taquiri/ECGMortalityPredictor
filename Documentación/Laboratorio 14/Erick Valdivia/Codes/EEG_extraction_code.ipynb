{
  "nbformat": 4,
  "nbformat_minor": 0,
  "metadata": {
    "colab": {
      "provenance": []
    },
    "kernelspec": {
      "name": "python3",
      "display_name": "Python 3"
    },
    "language_info": {
      "name": "python"
    }
  },
  "cells": [
    {
      "cell_type": "code",
      "execution_count": null,
      "metadata": {
        "id": "TmqPZlKzzB1-"
      },
      "outputs": [],
      "source": [
        "# Install required packages\n",
        "\n",
        "import requests\n",
        "import os\n",
        "\n",
        "# Edge Impulse API key\n",
        "api_key = 'ei_0bf22032cffb11858829f18f1436b6e2b3d771b11648d007df130183f51ff02a'\n",
        "\n",
        "# Function to upload files for a given label\n",
        "def upload_files(label, folder_path):\n",
        "    # Get a list of all files in the folder\n",
        "    files = os.listdir(folder_path)\n",
        "\n",
        "    # Upload each file to Edge Impulse using the API\n",
        "    for filename in files:\n",
        "        file_path = os.path.join(folder_path, filename)\n",
        "        if os.path.isfile(file_path):\n",
        "            with open(file_path, 'rb') as f:\n",
        "                res = requests.post(url='https://ingestion.edgeimpulse.com/api/training/files',\n",
        "                                    headers={\n",
        "                                        'x-label': label,\n",
        "                                        'x-api-key': api_key,\n",
        "                                    },\n",
        "                                    files={'data': (filename, f, 'application/octet-stream')}\n",
        "                                    )\n",
        "                if res.status_code == 200:\n",
        "                    print(f'Uploaded {filename} to Edge Impulse for label {label}')\n",
        "                else:\n",
        "                    print(f'Failed to upload {filename} to Edge Impulse for label {label}. Status code: {res.status_code}, Error: {res.content.decode()}')\n",
        "        else:\n",
        "            print(f'{file_path} is not a valid file.')\n",
        "\n",
        "# Define local paths for each dataset folder\n",
        "folder_paths = {\n",
        "    'rest': '/content/drive/MyDrive/lab14/filtered_rest',\n",
        "    'eye_movement': '/content/drive/MyDrive/lab14/filtered_eyes',\n",
        "    'math_exercises': '/content/drive/MyDrive/lab14/filtered_math'\n",
        "}\n",
        "\n",
        "# Upload datasets for each label\n",
        "for label, path in folder_paths.items():\n",
        "    upload_files(label, path)"
      ]
    }
  ]
}