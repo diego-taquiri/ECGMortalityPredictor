```python
import pyedflib
import numpy as np
from scipy.stats import kurtosis, entropy as scipy_entropy
import matplotlib.pyplot as plt

# File path to the EDF file
file_path = 'PN00-1.edf'

try:
    # Open the EDF file
    raw = pyedflib.EdfReader(file_path)
    
    # Get number of signals (channels) in the file
    n_channels = raw.signals_in_file
    
    # Get the sampling frequency of the signals
    fs = raw.getSampleFrequency(0)  # Assuming all signals have the same sampling frequency
    
    print(f"EDF file opened successfully with {n_channels} channels and sampling frequency {fs} Hz.")
    
    # Read data from the first channel
    channel_index = 0
    channel_data = raw.readSignal(channel_index)
    
    # Close the file when done reading data
    raw.close()
    
    # Parameters for epoch segmentation
    epoch_length = 1  # in seconds
    epoch_samples = int(epoch_length * fs)
    
    # Function to segment the data into epochs
    def segment_data(data, epoch_samples):
        n_samples = data.shape[0]
        n_epochs = n_samples // epoch_samples
        return data[:n_epochs * epoch_samples].reshape(n_epochs, epoch_samples)
    
    # Segment data into epochs
    channel_epochs = segment_data(channel_data, epoch_samples)
    
    # Initialize feature arrays
    n_epochs, epoch_samples = channel_epochs.shape
    kurtosis_features = np.zeros(n_epochs)
    entropy_features = np.zeros(n_epochs)
    
    # Compute features
    for i in range(n_epochs):
        kurtosis_features[i] = kurtosis(channel_epochs[i])
        # Compute entropy
        epoch_normalized = (channel_epochs[i] - np.min(channel_epochs[i])) / (np.max(channel_epochs[i]) - np.min(channel_epochs[i]))
        hist, _ = np.histogram(epoch_normalized, bins='auto', density=True)
        prob_density = hist / np.sum(hist)
        entropy_features[i] = scipy_entropy(prob_density)
    
    # Plotting the features
    def plot_features(features, feature_name):
        plt.figure(figsize=(15, 5))
        plt.plot(features)
        plt.title(f'{feature_name} across epochs for the first channel')
        plt.xlabel('Epoch')
        plt.ylabel(feature_name)
        plt.show()
    
    # Plot kurtosis features
    plot_features(kurtosis_features, 'Kurtosis')
    
    # Plot entropy features
    plot_features(entropy_features, 'Entropy')
    
    # Example output of features
    print("Kurtosis features shape:", kurtosis_features.shape)
    print("Entropy features shape:", entropy_features.shape)
    # Shapes will be (n_epochs,)
    
except Exception as e:
    print(f"Error loading EDF file: {e}")
```
